{
 "cells": [
  {
   "cell_type": "code",
   "execution_count": 1,
   "id": "49ea0b3d",
   "metadata": {},
   "outputs": [],
   "source": [
    "# Import the random module.\n",
    "import random"
   ]
  },
  {
   "cell_type": "code",
   "execution_count": 3,
   "id": "39852960",
   "metadata": {},
   "outputs": [
    {
     "data": {
      "text/plain": [
       "21"
      ]
     },
     "execution_count": 3,
     "metadata": {},
     "output_type": "execute_result"
    }
   ],
   "source": [
    "random.randint(-90, 90)"
   ]
  },
  {
   "cell_type": "code",
   "execution_count": 4,
   "id": "6c12c1c8",
   "metadata": {},
   "outputs": [
    {
     "data": {
      "text/plain": [
       "0.9229882368914615"
      ]
     },
     "execution_count": 4,
     "metadata": {},
     "output_type": "execute_result"
    }
   ],
   "source": [
    "random.random()"
   ]
  },
  {
   "cell_type": "code",
   "execution_count": 5,
   "id": "f0928db4",
   "metadata": {},
   "outputs": [],
   "source": [
    "x = 1\n",
    "latitudes = []\n",
    "while x < 11:\n",
    "    random_lat = random.randint(-90, 89) + random.random()\n",
    "    latitudes.append(random_lat)\n",
    "    x += 1"
   ]
  },
  {
   "cell_type": "code",
   "execution_count": 6,
   "id": "b05761ce",
   "metadata": {},
   "outputs": [
    {
     "data": {
      "text/plain": [
       "[21.035301154373364,\n",
       " -21.73065957484305,\n",
       " 67.10399456566324,\n",
       " 78.39946758385216,\n",
       " -51.20565739830854,\n",
       " 10.044229879128423,\n",
       " 43.72486770357217,\n",
       " -77.021357963221,\n",
       " -49.29431511248116,\n",
       " -72.1902517770341]"
      ]
     },
     "execution_count": 6,
     "metadata": {},
     "output_type": "execute_result"
    }
   ],
   "source": [
    "latitudes"
   ]
  },
  {
   "cell_type": "code",
   "execution_count": 7,
   "id": "bce73dfc",
   "metadata": {},
   "outputs": [
    {
     "data": {
      "text/plain": [
       "42"
      ]
     },
     "execution_count": 7,
     "metadata": {},
     "output_type": "execute_result"
    }
   ],
   "source": [
    "random.randrange(-90, 90, step=1)"
   ]
  },
  {
   "cell_type": "code",
   "execution_count": 8,
   "id": "19190c22",
   "metadata": {},
   "outputs": [
    {
     "data": {
      "text/plain": [
       "-15"
      ]
     },
     "execution_count": 8,
     "metadata": {},
     "output_type": "execute_result"
    }
   ],
   "source": [
    "random.randrange(-90, 90, step=3)"
   ]
  },
  {
   "cell_type": "code",
   "execution_count": 9,
   "id": "3d8bd32e",
   "metadata": {},
   "outputs": [
    {
     "data": {
      "text/plain": [
       "-89.90278289943394"
      ]
     },
     "execution_count": 9,
     "metadata": {},
     "output_type": "execute_result"
    }
   ],
   "source": [
    "random.uniform(-90, 90)"
   ]
  },
  {
   "cell_type": "code",
   "execution_count": 10,
   "id": "d7e5eec2",
   "metadata": {},
   "outputs": [],
   "source": [
    "# Import the NumPy module.\n",
    "import numpy as np"
   ]
  },
  {
   "cell_type": "code",
   "execution_count": 11,
   "id": "e7c2bae4",
   "metadata": {},
   "outputs": [
    {
     "data": {
      "text/plain": [
       "18.47485029395054"
      ]
     },
     "execution_count": 11,
     "metadata": {},
     "output_type": "execute_result"
    }
   ],
   "source": [
    "np.random.uniform(-90.000, 90.000)"
   ]
  },
  {
   "cell_type": "code",
   "execution_count": 12,
   "id": "4336b824",
   "metadata": {},
   "outputs": [
    {
     "data": {
      "text/plain": [
       "70.75592854882149"
      ]
     },
     "execution_count": 12,
     "metadata": {},
     "output_type": "execute_result"
    }
   ],
   "source": [
    "np.random.uniform(low=-90, high=90)"
   ]
  },
  {
   "cell_type": "code",
   "execution_count": 13,
   "id": "f85a309d",
   "metadata": {},
   "outputs": [
    {
     "data": {
      "text/plain": [
       "array([-25.72057795,  39.51361668,  69.3296142 , -21.97789672,\n",
       "        78.24574637, -62.65498056,  88.80883207,  29.24829684,\n",
       "        46.06985738, -31.75654726, -79.15385479, -55.49770107,\n",
       "       -85.70363126,  -1.20190739, -46.36867499, -49.49118734,\n",
       "       -15.84682866, -25.09368981,  42.94099364,  69.16595429,\n",
       "       -13.85838092,   5.40935622,  31.99478305,   2.4194457 ,\n",
       "       -51.98965156,  56.59723958,  62.39890726, -29.99031829,\n",
       "        53.89951153, -46.8407059 , -82.07522882,  55.32453719,\n",
       "       -57.36042845, -18.68143445, -59.17764067, -39.08436565,\n",
       "        17.98410017, -53.14151794, -66.51325783,  23.81934293,\n",
       "        63.09431903,  20.42832193,  15.85815547, -80.91303131,\n",
       "        43.25601276, -18.87404989, -85.70284379,  41.74323001,\n",
       "       -28.31645505, -36.98012737])"
      ]
     },
     "execution_count": 13,
     "metadata": {},
     "output_type": "execute_result"
    }
   ],
   "source": [
    "np.random.uniform(-90.000, 90.000, size=50)"
   ]
  },
  {
   "cell_type": "code",
   "execution_count": 14,
   "id": "5ca15ce9",
   "metadata": {},
   "outputs": [],
   "source": [
    "# Import timeit.\n",
    "import timeit"
   ]
  },
  {
   "cell_type": "code",
   "execution_count": 15,
   "id": "8c2433c0",
   "metadata": {},
   "outputs": [
    {
     "name": "stdout",
     "output_type": "stream",
     "text": [
      "8.96 µs ± 12 ns per loop (mean ± std. dev. of 7 runs, 100000 loops each)\n"
     ]
    }
   ],
   "source": [
    "%timeit np.random.uniform(-90.000, 90.000, size=1500)"
   ]
  },
  {
   "cell_type": "code",
   "execution_count": 16,
   "id": "9a66716b",
   "metadata": {},
   "outputs": [
    {
     "name": "stdout",
     "output_type": "stream",
     "text": [
      "1.07 ms ± 1.45 µs per loop (mean ± std. dev. of 7 runs, 1000 loops each)\n"
     ]
    }
   ],
   "source": [
    "def latitudes(size):\n",
    "    latitudes = []\n",
    "    x = 0\n",
    "    while x < (size):\n",
    "        random_lat = random.randint(-90, 90) + random.random()\n",
    "        latitudes.append(random_lat)\n",
    "        x += 1\n",
    "    return latitudes\n",
    "# Call the function with 1500.\n",
    "%timeit latitudes(1500)"
   ]
  },
  {
   "cell_type": "code",
   "execution_count": null,
   "id": "e0f7a65b",
   "metadata": {},
   "outputs": [],
   "source": []
  }
 ],
 "metadata": {
  "kernelspec": {
   "display_name": "PythonData",
   "language": "python",
   "name": "pythondata"
  },
  "language_info": {
   "codemirror_mode": {
    "name": "ipython",
    "version": 3
   },
   "file_extension": ".py",
   "mimetype": "text/x-python",
   "name": "python",
   "nbconvert_exporter": "python",
   "pygments_lexer": "ipython3",
   "version": "3.7.11"
  }
 },
 "nbformat": 4,
 "nbformat_minor": 5
}
